{
 "cells": [
  {
   "cell_type": "code",
   "execution_count": 3,
   "metadata": {
    "collapsed": true
   },
   "outputs": [],
   "source": [
    "import gzip\n",
    "import numpy\n",
    "import random\n",
    "from sklearn.svm import SVR\n",
    "\n",
    "def readGz(f):\n",
    "  for l in gzip.open(f):\n",
    "    yield eval(l)"
   ]
  },
  {
   "cell_type": "code",
   "execution_count": 330,
   "metadata": {
    "collapsed": false
   },
   "outputs": [],
   "source": [
    "allHelpful = []\n",
    "for l in readGz(\"train.json.gz\"):\n",
    "    user, item = l['reviewerID'], l['itemID']\n",
    "    categoryID = l['categoryID']\n",
    "    rating = l['rating']\n",
    "    allHelpful.append([l['helpful'], categoryID, len(l['reviewText'].split()), rating])"
   ]
  },
  {
   "cell_type": "code",
   "execution_count": 331,
   "metadata": {
    "collapsed": false
   },
   "outputs": [
    {
     "data": {
      "text/plain": [
       "[4.1850434905593668,\n",
       " 4.3434763998599166,\n",
       " 4.3508098891730604,\n",
       " 4.4418238993710695,\n",
       " 4.4189925119128661]"
      ]
     },
     "execution_count": 331,
     "metadata": {},
     "output_type": "execute_result"
    }
   ],
   "source": [
    "fold = 5\n",
    "allHelpful_cache = allHelpful\n",
    "#random.shuffle(allHelpful)\n",
    "train_Helpful = allHelpful[:200000]\n",
    "valid_Helpful = allHelpful[160000:]\n",
    "\n",
    "category = [[],[],[],[],[]]\n",
    "\n",
    "for l in train_Helpful:\n",
    "    category[l[1]].append(l[3])\n",
    "    \n",
    "category_ave = []\n",
    "for l in category:\n",
    "    category_ave.append(numpy.mean(l))\n",
    "\n",
    "category_ave"
   ]
  },
  {
   "cell_type": "code",
   "execution_count": 21,
   "metadata": {
    "collapsed": false,
    "scrolled": false
   },
   "outputs": [
    {
     "data": {
      "image/png": "[encoded data removed]",
      "text/plain": [
       "<matplotlib.figure.Figure at 0x42f0470>"
      ]
     },
     "metadata": {},
     "output_type": "display_data"
    }
   ],
   "source": [
    "plot_y = []\n",
    "plot_x = []\n",
    "for l in train_Helpful:\n",
    "    if (l[0]['outOf'] >30)  and (l[0]['outOf']>0):\n",
    "        plot_y.append(l[0]['nHelpful'] * 1.0 / l[0]['outOf'])\n",
    "        plot_x.append(l[0]['outOf'])\n",
    "import matplotlib.pyplot as plt\n",
    "plt.plot(plot_x, plot_y, 'r.')\n",
    "plt.show()"
   ]
  },
  {
   "cell_type": "code",
   "execution_count": 199,
   "metadata": {
    "collapsed": false
   },
   "outputs": [],
   "source": [
    "X_train = []\n",
    "y_train = []\n",
    "for l in train_Helpful:\n",
    "    if l[0]['outOf'] >= 10:\n",
    "        y_train.append(l[0]['nHelpful'] * 1.0 / l[0]['outOf'])\n",
    "        X_train.append([1, l[2], l[3] * 1.0 / category_ave[l[1]] - 1, l[0]['outOf']])"
   ]
  },
  {
   "cell_type": "code",
   "execution_count": 200,
   "metadata": {
    "collapsed": false
   },
   "outputs": [
    {
     "name": "stdout",
     "output_type": "stream",
     "text": [
      "Fitted parameter: [  8.90722541e-01   2.37177738e-05   1.71502039e-01   2.42227416e-04]\n",
      "MAE of validate set is: 0.183917449458\n",
      "MAE of training set is: 0.195027130912\n"
     ]
    }
   ],
   "source": [
    "theta, residuals, rank, s = numpy.linalg.lstsq(X_train, y_train)\n",
    "\n",
    "print \"Fitted parameter: \" + str(theta)\n",
    "\n",
    "X_valid = [[1, l[2], l[3] * 1.0 / category_ave[l[1]] - 1, l[0]['outOf']] for l in valid_Helpful]\n",
    "y_valid = [l[0] for l in valid_Helpful]\n",
    "y_valid_predict = numpy.dot(X_valid, theta)\n",
    "MAE_valid3 = sum(abs(a * b['outOf'] - b['nHelpful']) for (a, b) in zip(y_valid_predict, y_valid)) * 1.0 / len(y_valid)\n",
    "X_train1 = [[1, l[2], l[3] * 1.0 / category_ave[l[1]] - 1, l[0]['outOf']] for l in train_Helpful]\n",
    "y_train1 = [l[0] for l in train_Helpful]\n",
    "y_train1_predict = numpy.dot(X_train1, theta)\n",
    "MAE_train1 = sum(abs(a * b['outOf'] - b['nHelpful']) for (a, b) in zip(y_train1_predict, y_train1)) * 1.0 / len(y_train1)\n",
    "print \"MAE of validate set is: \" + str(MAE_valid3)\n",
    "print \"MAE of training set is: \" + str(MAE_train1)"
   ]
  },
  {
   "cell_type": "code",
   "execution_count": 201,
   "metadata": {
    "collapsed": true
   },
   "outputs": [],
   "source": [
    "# Problem 4\n",
    "predictions = open(\"predictions_Helpful.csv\", 'w')\n",
    "predictions.write(\"userID-itemID-outOf,prediction\\n\")\n",
    "for l in readGz(\"test_Helpful.json.gz\"):\n",
    "    user, item = l['reviewerID'],l['itemID']\n",
    "    predict = numpy.round(l['helpful']['outOf'] * numpy.dot([1, l['reviewText'].count(' ') + 1, l['rating'] * 1.0 / category_ave[l['categoryID']] - 1, l['helpful']['outOf']], theta))\n",
    "    predictions.write(user + '-' + item + '-' + str(l['helpful']['outOf']) + ',' + str(predict) + '\\n')\n",
    "predictions.close()"
   ]
  },
  {
   "cell_type": "markdown",
   "metadata": {},
   "source": [
    "# SVM"
   ]
  },
  {
   "cell_type": "code",
   "execution_count": 164,
   "metadata": {
    "collapsed": true
   },
   "outputs": [],
   "source": [
    "# SVM\n",
    "X_train = []\n",
    "y_train = []\n",
    "for l in train_Helpful:\n",
    "    if l[0]['outOf'] >= 10:\n",
    "        y_train.append(l[0]['nHelpful'] * 1.0 / l[0]['outOf'])\n",
    "        X_train.append([l[2], l[3] - category_ave[l[1]], l[0]['outOf']])\n",
    "\n",
    "X_valid = [[l[2], l[3] - category_ave[l[1]], l[0]['outOf']] for l in valid_Helpful]\n",
    "y_valid = [l[0]['nHelpful'] for l in valid_Helpful]"
   ]
  },
  {
   "cell_type": "code",
   "execution_count": 197,
   "metadata": {
    "collapsed": true
   },
   "outputs": [],
   "source": [
    "svr_rbf = SVR(kernel='rbf', C=1e-4, gamma=0.001)\n",
    "model = svr_rbf.fit(X_train, y_train)"
   ]
  },
  {
   "cell_type": "code",
   "execution_count": 198,
   "metadata": {
    "collapsed": false
   },
   "outputs": [
    {
     "data": {
      "text/plain": [
       "0.17995"
      ]
     },
     "execution_count": 198,
     "metadata": {},
     "output_type": "execute_result"
    }
   ],
   "source": [
    "predict_valid = model.predict(X_valid) * [l[0]['outOf'] for l in valid_Helpful]\n",
    "sum(abs(a - round(b)) for (a, b) in zip(y_valid, predict_valid)) * 1.0 / len(y_valid)"
   ]
  },
  {
   "cell_type": "code",
   "execution_count": 193,
   "metadata": {
    "collapsed": true
   },
   "outputs": [],
   "source": [
    "X_predict = [[l['reviewText'].count(' ') + 1, l['rating'] - category_ave[l['categoryID']], l['helpful']['outOf']] for l in readGz(\"test_Helpful.json.gz\")]\n",
    "ratio = model.predict(X_predict)\n",
    "predict_all = numpy.round(ratio * [l['helpful']['outOf'] for l in readGz(\"test_Helpful.json.gz\")])"
   ]
  },
  {
   "cell_type": "code",
   "execution_count": 194,
   "metadata": {
    "collapsed": false
   },
   "outputs": [],
   "source": [
    "predictions = open(\"predictions_Helpful.csv\", 'w')\n",
    "predictions.write(\"userID-itemID-outOf,prediction\\n\")\n",
    "i = 0\n",
    "for l in readGz(\"test_Helpful.json.gz\"):\n",
    "    user, item = l['reviewerID'],l['itemID']\n",
    "    predict = predict_all[i]\n",
    "    i += 1\n",
    "    predictions.write(user + '-' + item + '-' + str(l['helpful']['outOf']) + ',' + str(predict) + '\\n')\n",
    "predictions.close()"
   ]
  },
  {
   "cell_type": "markdown",
   "metadata": {},
   "source": [
    "# KNN"
   ]
  },
  {
   "cell_type": "code",
   "execution_count": 332,
   "metadata": {
    "collapsed": false
   },
   "outputs": [],
   "source": [
    "X_train = []\n",
    "y_train = []\n",
    "for l in train_Helpful:\n",
    "    if l[0]['outOf'] >= 4 and l[0]['outOf'] - l[0]['nHelpful'] <= 16:\n",
    "        y_train.append(l[0]['nHelpful'] * 1.0 / l[0]['outOf'])\n",
    "        X_train.append([l[2], l[3] - category_ave[l[1]], l[0]['outOf']])\n",
    "\n",
    "X_valid = [[l[2], l[3] - category_ave[l[1]], l[0]['outOf']] for l in valid_Helpful]\n",
    "y_valid = [l[0]['nHelpful'] for l in valid_Helpful]"
   ]
  },
  {
   "cell_type": "code",
   "execution_count": 340,
   "metadata": {
    "collapsed": false
   },
   "outputs": [
    {
     "data": {
      "text/plain": [
       "0.17035"
      ]
     },
     "execution_count": 340,
     "metadata": {},
     "output_type": "execute_result"
    }
   ],
   "source": [
    "from sklearn.neighbors import KNeighborsRegressor\n",
    "neigh = KNeighborsRegressor(n_neighbors=23)\n",
    "neigh.fit(X_train, y_train) \n",
    "rate = neigh.predict(X_valid) \n",
    "#rate = (rate - [0.05] * len(rate)) / 0.91 * 1.0\n",
    "rate[rate<0] = 0\n",
    "rate[rate > 1] = 1\n",
    "predict_valid = rate * [l[0]['outOf'] for l in valid_Helpful]\n",
    "sum(abs(a - round(b)) for (a, b) in zip(y_valid, predict_valid)) * 1.0 / len(y_valid)"
   ]
  },
  {
   "cell_type": "code",
   "execution_count": 140,
   "metadata": {
    "collapsed": false
   },
   "outputs": [
    {
     "data": {
      "text/plain": [
       "array([ 0.68681319,  0.        ,  0.        , ...,  0.        ,\n",
       "        0.85164835,  0.        ])"
      ]
     },
     "execution_count": 140,
     "metadata": {},
     "output_type": "execute_result"
    }
   ],
   "source": [
    "predict_valid"
   ]
  },
  {
   "cell_type": "code",
   "execution_count": 345,
   "metadata": {
    "collapsed": true
   },
   "outputs": [],
   "source": [
    "X_predict = [[len(l['reviewText'].split()), l['rating'] - category_ave[l['categoryID']], l['helpful']['outOf']] for l in readGz(\"test_Helpful.json.gz\")] #"
   ]
  },
  {
   "cell_type": "code",
   "execution_count": 346,
   "metadata": {
    "collapsed": true
   },
   "outputs": [],
   "source": [
    "ratio = neigh.predict(X_predict)\n",
    "#ratio = (ratio - [0.05] * len(ratio)) / 0.91 * 1.0\n",
    "ratio[ratio < 0] = 0\n",
    "ratio[ratio > 1] = 1"
   ]
  },
  {
   "cell_type": "code",
   "execution_count": 350,
   "metadata": {
    "collapsed": false
   },
   "outputs": [
    {
     "data": {
      "text/plain": [
       "array([ 0.76086957,  0.80434783,  0.84782609, ...,  0.93478261,\n",
       "        0.80434783,  0.83695652])"
      ]
     },
     "execution_count": 350,
     "metadata": {},
     "output_type": "execute_result"
    }
   ],
   "source": [
    "ratio"
   ]
  },
  {
   "cell_type": "code",
   "execution_count": 351,
   "metadata": {
    "collapsed": false
   },
   "outputs": [],
   "source": [
    "predict_all = numpy.round(ratio * [l['helpful']['outOf'] for l in readGz(\"test_Helpful.json.gz\")])\n",
    "predictions = open(\"predictions_Helpful.csv\", 'w')\n",
    "predictions.write(\"userID-itemID-outOf,prediction\\n\")\n",
    "i = 0\n",
    "for l in readGz(\"test_Helpful.json.gz\"):\n",
    "    user, item = l['reviewerID'],l['itemID']\n",
    "    predict = predict_all[i]\n",
    "    i += 1\n",
    "    predictions.write(user + '-' + item + '-' + str(l['helpful']['outOf']) + ',' + str(predict) + '\\n')\n",
    "predictions.close()"
   ]
  },
  {
   "cell_type": "code",
   "execution_count": 338,
   "metadata": {
    "collapsed": false,
    "scrolled": true
   },
   "outputs": [
    {
     "data": {
      "image/png": "[encoded data removed]",
      "text/plain": [
       "<matplotlib.figure.Figure at 0xf5cf5f8>"
      ]
     },
     "metadata": {},
     "output_type": "display_data"
    }
   ],
   "source": [
    "plot_x = [l[0]['outOf'] for l in valid_Helpful]\n",
    "ratio_try = neigh.predict(X_valid)\n",
    "#ratio_test = (ratio_try - [0.55] * len(ratio_try)) / 0.4 * 1\n",
    "ratio_test = ratio_try\n",
    "ratio_test[ratio_test < 0] = 0\n",
    "ratio_test[ratio_test > 1] = 1\n",
    "import matplotlib.pyplot as plt\n",
    "plt.plot(plot_x, ratio_test, 'r.')\n",
    "plt.axis([0, 450, 0, 1])\n",
    "plt.show()"
   ]
  },
  {
   "cell_type": "code",
   "execution_count": 230,
   "metadata": {
    "collapsed": false
   },
   "outputs": [
    {
     "data": {
      "image/png": "[encoded data removed]",
      "text/plain": [
       "<matplotlib.figure.Figure at 0x1894b518>"
      ]
     },
     "metadata": {},
     "output_type": "display_data"
    }
   ],
   "source": [
    "plot_x = [l[0]['outOf'] for l in valid_Helpful]\n",
    "ratio_try = neigh.predict(X_valid)\n",
    "ratio_test = (ratio_try - [0.55] * len(ratio_try)) / 0.4 * 1\n",
    "ratio_test[ratio_test < 0] = 0\n",
    "ratio_test[ratio_test > 1] = 1\n",
    "import matplotlib.pyplot as plt\n",
    "plt.plot(plot_x, ratio_test, 'r.')\n",
    "plt.axis([0, 450, 0, 1])\n",
    "plt.show()"
   ]
  },
  {
   "cell_type": "code",
   "execution_count": 86,
   "metadata": {
    "collapsed": false
   },
   "outputs": [
    {
     "data": {
      "image/png": "[encoded data removed]",
      "text/plain": [
       "<matplotlib.figure.Figure at 0x19da9da0>"
      ]
     },
     "metadata": {},
     "output_type": "display_data"
    }
   ],
   "source": [
    "plot_y = []\n",
    "plot_x = []\n",
    "for l in valid_Helpful:\n",
    "    if l[0]['outOf']>0:\n",
    "        plot_y.append(l[0]['nHelpful'] * 1.0 / l[0]['outOf'])\n",
    "        plot_x.append(l[0]['outOf'])\n",
    "import matplotlib.pyplot as plt\n",
    "plt.plot(plot_x, plot_y, 'r.')\n",
    "plt.axis([0, 450, 0, 1])\n",
    "plt.show()"
   ]
  },
  {
   "cell_type": "code",
   "execution_count": null,
   "metadata": {
    "collapsed": true
   },
   "outputs": [],
   "source": [
    "# Problem 1\n",
    "averageRate = sum([x['nHelpful'] for x in train_Helpful]) * 1.0 / sum([x['outOf'] for x in train_Helpful])\n",
    "print \"alpha = \" + str(averageRate)\n",
    "\n",
    "# Problem 2\n",
    "diff = 0\n",
    "for r in valid_Helpful:\n",
    "    diff += abs(r['outOf'] * averageRate - r['nHelpful'])\n",
    "MAE = diff * 1.0 / len(valid_Helpful)\n",
    "print \"MAE = \" + str(MAE)\n",
    "\n",
    "# Problem 3\n",
    "allHelpful = []\n",
    "for l in readGz(\"train.json.gz\"):\n",
    "    user, item = l['reviewerID'], l['itemID']\n",
    "    allHelpful.append([l['helpful'], l['reviewText'].count(' ') + 1, l['rating']])\n",
    "\n",
    "train_Helpful = allHelpful[:100000]\n",
    "valid_Helpful = allHelpful[100000:]\n",
    "\n",
    "X_train = []\n",
    "y_train = []\n",
    "for l in train_Helpful:\n",
    "    if l[0]['outOf'] != 0:\n",
    "        y_train.append(l[0]['nHelpful'] * 1.0 / l[0]['outOf'])\n",
    "        X_train.append([1, l[1], l[2]])\n",
    "\n",
    "theta, residuals, rank, s = numpy.linalg.lstsq(X_train, y_train)\n",
    "\n",
    "print \"Fitted parameter: \" + str(theta)\n",
    "\n",
    "X_valid = [[1, l[1], l[2]] for l in valid_Helpful]\n",
    "y_valid = [l[0] for l in valid_Helpful]\n",
    "y_valid_predict = numpy.dot(X_valid, theta)\n",
    "MAE_valid3 = sum(abs(a * b['outOf'] - b['nHelpful']) for (a, b) in zip(y_valid_predict, y_valid)) * 1.0 / len(y_valid)\n",
    "print \"MAE of validate set in problem 3 is: \" + str(MAE_valid3)\n",
    "\n",
    "# Problem 4\n",
    "predictions = open(\"predictions_Helpful.csv\", 'w')\n",
    "predictions.write(\"userID-itemID-outOf,prediction\\n\")\n",
    "for l in readGz(\"test_Helpful.json.gz\"):\n",
    "    user, item = l['reviewerID'],l['itemID']\n",
    "    predict = l['helpful']['outOf'] * numpy.dot([1, l['reviewText'].count(' ') + 1, l['rating']], theta)\n",
    "    predictions.write(user + '-' + item + '-' + str(l['helpful']['outOf']) + ',' + str(predict) + '\\n')\n",
    "predictions.close()"
   ]
  }
 ],
 "metadata": {
  "anaconda-cloud": {},
  "kernelspec": {
   "display_name": "Python [conda root]",
   "language": "python",
   "name": "conda-root-py"
  },
  "language_info": {
   "codemirror_mode": {
    "name": "ipython",
    "version": 2
   },
   "file_extension": ".py",
   "mimetype": "text/x-python",
   "name": "python",
   "nbconvert_exporter": "python",
   "pygments_lexer": "ipython2",
   "version": "2.7.12"
  }
 },
 "nbformat": 4,
 "nbformat_minor": 1
}
