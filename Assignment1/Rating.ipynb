{
 "cells": [
  {
   "cell_type": "code",
   "execution_count": 34,
   "metadata": {
    "collapsed": true
   },
   "outputs": [],
   "source": [
    "import gzip\n",
    "from collections import defaultdict\n",
    "import numpy\n",
    "from numpy.linalg import inv\n",
    "import random\n",
    "\n",
    "def readGz(f):\n",
    "  for l in gzip.open(f):\n",
    "    yield eval(l)"
   ]
  },
  {
   "cell_type": "code",
   "execution_count": 33,
   "metadata": {
    "collapsed": true
   },
   "outputs": [],
   "source": [
    "### Rating\n",
    "raw_data = []\n",
    "for l in readGz(\"train.json.gz\"):\n",
    "    user, item = l['reviewerID'], l['itemID']\n",
    "    categoryID = l['categoryID']\n",
    "    rating = l['rating']\n",
    "    reviewText = l['reviewText']\n",
    "    raw_data.append([user, item, categoryID, rating, l['helpful'], reviewText])\n",
    "\n",
    "train_data = raw_data[:200000]\n",
    "valid_data = raw_data[100000:]\n",
    "\n",
    "userRatings = defaultdict(list)\n",
    "itemRatings = defaultdict(list)"
   ]
  },
  {
   "cell_type": "code",
   "execution_count": 14,
   "metadata": {
    "collapsed": false
   },
   "outputs": [],
   "source": [
    "# calculate average\n",
    "for l in train_data:\n",
    "    user = l[0]\n",
    "    item = l[1]\n",
    "    rating = l[3]        \n",
    "    userRatings[user].append(rating)\n",
    "    itemRatings[item].append(rating)\n",
    "\n",
    "userRatings_ave = defaultdict(dict)\n",
    "itemRatings_ave = defaultdict(dict)\n",
    "for user in userRatings:\n",
    "    userRatings_ave[user] = numpy.mean(userRatings[user])\n",
    "for item in itemRatings:\n",
    "    itemRatings_ave[item] = numpy.mean(itemRatings[item])"
   ]
  },
  {
   "cell_type": "markdown",
   "metadata": {},
   "source": [
    "# AS1"
   ]
  },
  {
   "cell_type": "code",
   "execution_count": 35,
   "metadata": {
    "collapsed": true
   },
   "outputs": [],
   "source": [
    "import gzip\n",
    "from collections import defaultdict\n",
    "import numpy\n",
    "from numpy.linalg import inv\n",
    "import random\n",
    "\n",
    "def readGz(f):\n",
    "  for l in gzip.open(f):\n",
    "    yield eval(l)"
   ]
  },
  {
   "cell_type": "code",
   "execution_count": 36,
   "metadata": {
    "collapsed": true
   },
   "outputs": [],
   "source": [
    "### Rating\n",
    "allRatings = []\n",
    "userRatings = defaultdict(list)\n",
    "itemRatings = defaultdict(list)\n",
    "for l in readGz(\"train.json.gz\"):\n",
    "    user, item = l['reviewerID'], l['itemID']\n",
    "    allRatings.append(l['rating'])\n",
    "    userRatings[user].append(l['rating'])\n",
    "    itemRatings[item].append(l['rating'])\n",
    "    "
   ]
  },
  {
   "cell_type": "code",
   "execution_count": 37,
   "metadata": {
    "collapsed": true
   },
   "outputs": [],
   "source": [
    "userRatings_ave = defaultdict(dict)\n",
    "itemRatings_ave = defaultdict(dict)\n",
    "for user in userRatings:\n",
    "    userRatings_ave[user] = numpy.mean(userRatings[user])\n",
    "for item in itemRatings:\n",
    "    itemRatings_ave[item] = numpy.mean(itemRatings[item])\n"
   ]
  },
  {
   "cell_type": "code",
   "execution_count": 150,
   "metadata": {
    "collapsed": true
   },
   "outputs": [],
   "source": [
    "'''\n",
    "allRatings = []\n",
    "userRatings = defaultdict(list)\n",
    "itemRatings = defaultdict(list)\n",
    "for l in readGz(\"train.json.gz\"):\n",
    "    user, item = l['reviewerID'], l['itemID']\n",
    "    \n",
    "    if abs(userRatings_ave[l['reviewerID']] - l['rating']) > 2 and abs(itemRatings_ave[l['itemID']] - l['rating']) > 2:\n",
    "        continue\n",
    "    allRatings.append(l['rating'])\n",
    "    userRatings[user].append(l['rating'])\n",
    "    itemRatings[item].append(l['rating'])\n",
    "userRatings_ave = defaultdict(dict)\n",
    "itemRatings_ave = defaultdict(dict)\n",
    "for user in userRatings:\n",
    "    userRatings_ave[user] = numpy.mean(userRatings[user])\n",
    "for item in itemRatings:\n",
    "    itemRatings_ave[item] = numpy.mean(itemRatings[item])\n",
    "'''"
   ]
  },
  {
   "cell_type": "code",
   "execution_count": 39,
   "metadata": {
    "collapsed": true
   },
   "outputs": [],
   "source": [
    "train_Ratings = allRatings[:200000]\n",
    "valid_Ratings = allRatings[100000:]"
   ]
  },
  {
   "cell_type": "code",
   "execution_count": 40,
   "metadata": {
    "collapsed": false
   },
   "outputs": [
    {
     "data": {
      "text/plain": [
       "200000"
      ]
     },
     "execution_count": 40,
     "metadata": {},
     "output_type": "execute_result"
    }
   ],
   "source": [
    "len(train_Ratings)"
   ]
  },
  {
   "cell_type": "code",
   "execution_count": 41,
   "metadata": {
    "collapsed": false
   },
   "outputs": [
    {
     "name": "stdout",
     "output_type": "stream",
     "text": [
      "alpha = 4.23359\n",
      "MSE on valid set is 1.2264635521\n"
     ]
    }
   ],
   "source": [
    "# problem 5\n",
    "globalAverage = sum(train_Ratings) * 1.0 / len(train_Ratings)\n",
    "print \"alpha = \" + str(globalAverage)\n",
    "MSE_rating_valid = sum([(i - globalAverage) ** 2 for i in valid_Ratings]) * 1.0 / len(valid_Ratings)\n",
    "print \"MSE on valid set is \" + str(MSE_rating_valid)"
   ]
  },
  {
   "cell_type": "code",
   "execution_count": 42,
   "metadata": {
    "collapsed": true
   },
   "outputs": [],
   "source": [
    "allRatings = []\n",
    "userRatings = defaultdict(list)\n",
    "for l in readGz(\"train.json.gz\"):\n",
    "    '''\n",
    "    if abs(userRatings_ave[l['reviewerID']] - l['rating']) > 2 and abs(itemRatings_ave[l['itemID']] - l['rating']) > 2:\n",
    "        continue\n",
    "    '''\n",
    "    allRatings.append([l['reviewerID'], l['itemID'], l['rating']])\n",
    "train_Ratings = allRatings[:200000]\n",
    "valid_Ratings = allRatings[100000:]"
   ]
  },
  {
   "cell_type": "code",
   "execution_count": 43,
   "metadata": {
    "collapsed": false
   },
   "outputs": [],
   "source": [
    "R_u = defaultdict(dict)\n",
    "R_i = defaultdict(dict)\n",
    "users = {}\n",
    "items = {}\n",
    "gamma_u = {}\n",
    "gamma_i = {}\n",
    "K = 5\n",
    "\n",
    "for l in train_Ratings:\n",
    "    user, item, rating = l[0], l[1], l[2]\n",
    "#    if (user in R_u) and (item in R_u[user]):\n",
    "#        continue\n",
    "    \n",
    "    R_u[user][item] = rating\n",
    "    R_i[item][user] = rating\n",
    "    if user not in users:\n",
    "        users[user] = 0.0\n",
    "        gamma_u[user] = numpy.random.random_sample((K, 1)) * 0.5\n",
    "    if item not in items:\n",
    "        items[item] = 0.0\n",
    "        gamma_i[item] = numpy.random.random_sample((K, 1)) * 0.5"
   ]
  },
  {
   "cell_type": "code",
   "execution_count": 44,
   "metadata": {
    "collapsed": true
   },
   "outputs": [],
   "source": [
    "def calc_alpha():\n",
    "    sigma = 0\n",
    "    count = 0\n",
    "    for user in users:\n",
    "        g_u = gamma_u[user]\n",
    "        u = users[user]\n",
    "        for item in R_u[user]:\n",
    "            sigma += R_u[user][item] - (u + items[item] + numpy.dot(g_u.T, gamma_i[item]))\n",
    "            count += 1\n",
    "    return sigma * 1.0 / count"
   ]
  },
  {
   "cell_type": "code",
   "execution_count": 45,
   "metadata": {
    "collapsed": true
   },
   "outputs": [],
   "source": [
    "def calc_users():\n",
    "    users_tmp = {}\n",
    "    for user in users:\n",
    "        sigma = 0\n",
    "        count = 0\n",
    "        g_u = gamma_u[user]\n",
    "        for item in R_u[user]:\n",
    "            sigma += R_u[user][item] - (alpha + items[item] + numpy.dot(g_u.T, gamma_i[item]))\n",
    "            count += 1\n",
    "        users_tmp[user] = sigma * 1.0 / (lam + count)\n",
    "    return users_tmp"
   ]
  },
  {
   "cell_type": "code",
   "execution_count": 46,
   "metadata": {
    "collapsed": true
   },
   "outputs": [],
   "source": [
    "def calc_items():\n",
    "    items_tmp = {}\n",
    "    for item in items:\n",
    "        sigma = 0\n",
    "        count = 0\n",
    "        g_i = gamma_i[item]\n",
    "        for user in R_i[item]:\n",
    "            sigma += R_i[item][user] - (alpha + users[user] + numpy.dot(g_i.T, gamma_u[user]))\n",
    "            count += 1\n",
    "        items_tmp[item] = sigma * 1.0 / (lam + count)\n",
    "    return items_tmp"
   ]
  },
  {
   "cell_type": "code",
   "execution_count": 47,
   "metadata": {
    "collapsed": true
   },
   "outputs": [],
   "source": [
    "def calc_gamma_u():\n",
    "    gamma_u_tmp = {}\n",
    "    for user in users:\n",
    "        sigma1 = numpy.array([[0.0] * K]) * numpy.array([[0.0] * K]).T\n",
    "        sigma2 = numpy.array([[0.0] * K]).T       \n",
    "        u = users[user]\n",
    "        for item in R_u[user]:\n",
    "            g_i = gamma_i[item]\n",
    "            sigma1 += g_i * g_i.T\n",
    "            sigma2 += g_i * (R_u[user][item] - (alpha + items[item] + u))\n",
    "        gamma_u_tmp[user] = numpy.dot(inv(sigma1 + 2*lam*numpy.eye(K)), sigma2)\n",
    "    return gamma_u_tmp"
   ]
  },
  {
   "cell_type": "code",
   "execution_count": 48,
   "metadata": {
    "collapsed": true
   },
   "outputs": [],
   "source": [
    "def calc_gamma_i():\n",
    "    gamma_i_tmp = {}\n",
    "    for item in items:\n",
    "        sigma1 = numpy.array([[0.0] * K]) * numpy.array([[0.0] * K]).T\n",
    "        sigma2 = numpy.array([[0.0] * K]).T\n",
    "        i = items[item]\n",
    "        for user in R_i[item]:\n",
    "            g_u = gamma_u[user]\n",
    "            sigma1 += g_u * g_u.T\n",
    "            sigma2 += g_u * (R_u[user][item] - (alpha + users[user] + i))\n",
    "        gamma_i_tmp[item] = numpy.dot(inv(sigma1 + 2*lam*numpy.eye(K)), sigma2)\n",
    "    return gamma_i_tmp"
   ]
  },
  {
   "cell_type": "code",
   "execution_count": 49,
   "metadata": {
    "collapsed": false
   },
   "outputs": [],
   "source": [
    "def calc_target(alpha_cur, users_cur, items_cur, gamma_u_cur, gamma_i_cur, data, lam):\n",
    "    sigma = 0    \n",
    "    for user in users_cur:\n",
    "        sigma += users_cur[user] ** 2 + numpy.dot(gamma_u_cur[user].T, gamma_u_cur[user])\n",
    "    for item in items_cur:\n",
    "        sigma += items_cur[item] ** 2 + numpy.dot(gamma_i_cur[item].T, gamma_i_cur[item])\n",
    "    sigma *= lam\n",
    "    for l in data:\n",
    "        sigma += (alpha_cur + users_cur[l[0]] + items_cur[l[1]] + numpy.dot(gamma_u_cur[l[0]].T, gamma_i_cur[l[1]])- l[2]) ** 2\n",
    "    return sigma"
   ]
  },
  {
   "cell_type": "code",
   "execution_count": 50,
   "metadata": {
    "collapsed": false
   },
   "outputs": [
    {
     "data": {
      "text/plain": [
       "array([[ 0.04162581],\n",
       "       [ 0.1575244 ],\n",
       "       [ 0.40213984],\n",
       "       [ 0.13964372],\n",
       "       [ 0.48376819]])"
      ]
     },
     "execution_count": 50,
     "metadata": {},
     "output_type": "execute_result"
    }
   ],
   "source": [
    "gamma_u['U999710097']"
   ]
  },
  {
   "cell_type": "code",
   "execution_count": 51,
   "metadata": {
    "collapsed": true
   },
   "outputs": [],
   "source": [
    "def calc_MSE(alpha_cur, users_cur, items_cur, gamma_u_cur, gamma_i_cur, data, default_rating):\n",
    "    sigma = 0\n",
    "    for l in data:\n",
    "        if l[0] not in users_cur:\n",
    "            b_u = 0\n",
    "        else:\n",
    "            b_u = users_cur[l[0]]\n",
    "        if l[1] not in items_cur:\n",
    "            b_i = 0\n",
    "        else:\n",
    "            b_i = items_cur[l[1]]\n",
    "        if l[0] not in gamma_u_cur:\n",
    "            r_u = numpy.array([[0.0] * K]).T \n",
    "        else:\n",
    "            r_u = gamma_u_cur[l[0]]\n",
    "        if l[1] not in gamma_i_cur:\n",
    "            r_i = numpy.array([[0.0] * K]).T\n",
    "        else:\n",
    "            r_i = gamma_i_cur[l[1]]\n",
    "        sigma += (alpha_cur + b_u + b_i + numpy.dot(r_u.T, r_i) - l[2]) ** 2\n",
    "    return sigma * 1.0 / len(data)"
   ]
  },
  {
   "cell_type": "code",
   "execution_count": 52,
   "metadata": {
    "collapsed": true
   },
   "outputs": [],
   "source": [
    "globalAverage = sum(l[2] for l in train_Ratings) * 1.0 / len(train_Ratings)"
   ]
  },
  {
   "cell_type": "code",
   "execution_count": 53,
   "metadata": {
    "collapsed": false
   },
   "outputs": [
    {
     "data": {
      "text/plain": [
       "4.23359"
      ]
     },
     "execution_count": 53,
     "metadata": {},
     "output_type": "execute_result"
    }
   ],
   "source": [
    "globalAverage"
   ]
  },
  {
   "cell_type": "code",
   "execution_count": 54,
   "metadata": {
    "collapsed": true
   },
   "outputs": [],
   "source": [
    "alpha = globalAverage"
   ]
  },
  {
   "cell_type": "code",
   "execution_count": 55,
   "metadata": {
    "collapsed": false
   },
   "outputs": [
    {
     "name": "stdout",
     "output_type": "stream",
     "text": [
      "2\n",
      "3\n",
      "4\n",
      "5\n",
      "6\n",
      "7\n",
      "8\n",
      "9\n",
      "10\n",
      "11\n",
      "12\n",
      "13\n",
      "14\n",
      "15\n",
      "16\n",
      "17\n",
      "18\n",
      "19\n",
      "20\n",
      "21\n",
      "22\n",
      "23\n",
      "24\n",
      "25\n",
      "26\n",
      "27\n",
      "28\n",
      "29\n",
      "30\n",
      "31\n",
      "32\n",
      "33\n",
      "34\n",
      "35\n",
      "36\n",
      "37\n",
      "38\n",
      "39\n",
      "40\n",
      "41\n",
      "42\n",
      "43\n",
      "44\n",
      "45\n",
      "46\n",
      "47\n",
      "48\n",
      "49\n",
      "50\n",
      "51\n",
      "52\n",
      "53\n",
      "54\n",
      "55\n",
      "56\n",
      "57\n",
      "58\n",
      "59\n",
      "60\n",
      "61\n",
      "62\n",
      "63\n",
      "64\n",
      "65\n",
      "66\n",
      "67\n"
     ]
    }
   ],
   "source": [
    "lam = 5.5\n",
    "target_new = calc_target(alpha, users, items, gamma_u, gamma_i, train_Ratings, lam)\n",
    "target = target_new + 100  # Tricky: Compel target to be larger than target_new\n",
    "globalAverage = sum(l[2] for l in train_Ratings) * 1.0 / len(train_Ratings)\n",
    "trial = 1\n",
    "while abs(target - target_new) > 1:\n",
    "    while abs(target - target_new) > 1:\n",
    "        target = target_new\n",
    "        alpha = calc_alpha()\n",
    "        users = calc_users()\n",
    "        items = calc_items()\n",
    "        gamma_u = calc_gamma_u()\n",
    "        target_new = calc_target(alpha, users, items, gamma_u, gamma_i, train_Ratings, lam)\n",
    "        trial += 1\n",
    "        print trial\n",
    "    gamma_i = calc_gamma_i()\n",
    "    target_new = calc_target(alpha, users, items, gamma_u, gamma_i, train_Ratings, lam)\n",
    "    while abs(target - target_new) > 1:\n",
    "        target = target_new\n",
    "        alpha = calc_alpha()\n",
    "        users = calc_users()\n",
    "        items = calc_items()\n",
    "        gamma_i = calc_gamma_i()\n",
    "        target_new = calc_target(alpha, users, items, gamma_u, gamma_i, train_Ratings, lam)\n",
    "        trial += 1\n",
    "        print trial\n",
    "    gamma_u = calc_gamma_u()  \n",
    "    target_new = calc_target(alpha, users, items, gamma_u, gamma_i, train_Ratings, lam)\n",
    "\n",
    "\n",
    "    "
   ]
  },
  {
   "cell_type": "code",
   "execution_count": 56,
   "metadata": {
    "collapsed": true
   },
   "outputs": [],
   "source": [
    "min_users = users\n",
    "min_items = items\n",
    "min_alpha = alpha\n",
    "min_gamma_u = gamma_u\n",
    "min_gamma_i = gamma_i"
   ]
  },
  {
   "cell_type": "code",
   "execution_count": 57,
   "metadata": {
    "collapsed": false
   },
   "outputs": [
    {
     "name": "stdout",
     "output_type": "stream",
     "text": [
      "MSE in problem6 = [[ 0.79739667]]\n"
     ]
    }
   ],
   "source": [
    "MSE_valid_6 = calc_MSE(alpha, users, items, gamma_u, gamma_i, valid_Ratings, globalAverage)\n",
    "print \"MSE in problem6 = \" + str(MSE_valid_6)"
   ]
  },
  {
   "cell_type": "code",
   "execution_count": 95,
   "metadata": {
    "collapsed": false
   },
   "outputs": [],
   "source": [
    "min_users_ave = sum(min_users[d] for d in min_users) / len(min_users)\n",
    "min_items_ave = sum(min_items[d] for d in min_items) / len(min_items)\n",
    "min_gamma_u_ave = sum(min_gamma_u[d] for d in min_gamma_u) / len(min_gamma_u)\n",
    "min_gamma_i_ave = sum(min_gamma_i[d] for d in min_gamma_i) / len(min_gamma_i)\n",
    "predictions = open(\"predictions_Rating.csv\", 'w')\n",
    "for l in open(\"pairs_Rating.txt\"):\n",
    "    if l.startswith(\"userID\"):\n",
    "        #header\n",
    "        predictions.write(l)\n",
    "        continue\n",
    "    u, i = l.strip().split('-')\n",
    "    \n",
    "    if (u not in min_users) and (i not in min_items):\n",
    "        predictions.write(u + '-' + i + ',' + str(globalAverage) + '\\n')\n",
    "        continue\n",
    "    if u in min_users and i in R_u[u]:\n",
    "        predictions.write(u + '-' + i + ',' + str(R_u[u][i]) + '\\n')\n",
    "        continue\n",
    "    if u in min_users and i in min_items:\n",
    "        beta_u = min_users[u]\n",
    "        ga_u = min_gamma_u[u]\n",
    "        beta_i = min_items[i]\n",
    "        ga_i = min_gamma_i[i]\n",
    "        if (beta_u + beta_i + min_alpha + numpy.dot(ga_u.T, ga_i))[0][0] < 1.9:\n",
    "            predictions.write(u + '-' + i + ',' + str(1) + '\\n')\n",
    "        elif (beta_u + beta_i + min_alpha + numpy.dot(ga_u.T, ga_i))[0][0] >= 4.7:\n",
    "            predictions.write(u + '-' + i + ',' + str(4.7) + '\\n')\n",
    "        else:\n",
    "            predictions.write(u + '-' + i + ',' + str((beta_u + beta_i + min_alpha + numpy.dot(ga_u.T, ga_i))[0][0]) + '\\n')\n",
    "        continue\n",
    "    if u in min_users:\n",
    "        predictions.write(u + '-' + i + ',' + str(userRatings_ave[u] ) + '\\n')\n",
    "        continue\n",
    "    if i in min_items:\n",
    "        predictions.write(u + '-' + i + ',' + str(itemRatings_ave[i] ) + '\\n')\n",
    "'''\n",
    "    if u in min_users:\n",
    "        beta_u = min_users[u]\n",
    "        ga_u = min_gamma_u[u]\n",
    "    else:\n",
    "        beta_u = min_users_ave\n",
    "        ga_u = min_gamma_u_ave\n",
    "    if i in min_items:\n",
    "        beta_i = min_items[i]\n",
    "        ga_i = min_gamma_i[i]\n",
    "    else:\n",
    "        beta_i = min_items_ave\n",
    "        ga_i = min_gamma_i_ave\n",
    "\n",
    "    predictions.write(u + '-' + i + ',' + str((beta_u + beta_i + min_alpha + numpy.dot(ga_u.T, ga_i))[0][0]) + '\\n')\n",
    "'''\n",
    "predictions.close()"
   ]
  },
  {
   "cell_type": "code",
   "execution_count": 27,
   "metadata": {
    "collapsed": false
   },
   "outputs": [
    {
     "data": {
      "text/plain": [
       "array([[ 4.23011935]])"
      ]
     },
     "execution_count": 27,
     "metadata": {},
     "output_type": "execute_result"
    }
   ],
   "source": [
    "min_alpha"
   ]
  },
  {
   "cell_type": "code",
   "execution_count": 234,
   "metadata": {
    "collapsed": false
   },
   "outputs": [
    {
     "name": "stdout",
     "output_type": "stream",
     "text": [
      "4.5\n",
      "2\n",
      "3\n",
      "4\n",
      "5\n",
      "6\n",
      "7\n",
      "8\n",
      "9\n",
      "10\n",
      "11\n",
      "12\n",
      "13\n",
      "14\n",
      "15\n",
      "16\n",
      "17\n",
      "18\n",
      "19\n",
      "20\n",
      "21\n",
      "22\n",
      "23\n",
      "24\n",
      "25\n",
      "26\n",
      "[[ 0.88252577]]\n",
      "best: 4.5\n",
      "4.6\n",
      "2\n",
      "3\n",
      "4\n",
      "5\n",
      "6\n",
      "7\n",
      "8\n",
      "[[ 0.88651635]]\n",
      "4.7\n",
      "2\n",
      "3\n",
      "4\n",
      "5\n"
     ]
    },
    {
     "ename": "KeyboardInterrupt",
     "evalue": "",
     "output_type": "error",
     "traceback": [
      "\u001b[0;31m---------------------------------------------------------------------------\u001b[0m",
      "\u001b[0;31mKeyboardInterrupt\u001b[0m                         Traceback (most recent call last)",
      "\u001b[0;32m<ipython-input-234-7f7f1e7bc706>\u001b[0m in \u001b[0;36m<module>\u001b[0;34m()\u001b[0m\n\u001b[1;32m     24\u001b[0m             \u001b[0mtarget\u001b[0m \u001b[1;33m=\u001b[0m \u001b[0mtarget_new\u001b[0m\u001b[1;33m\u001b[0m\u001b[0m\n\u001b[1;32m     25\u001b[0m             \u001b[0malpha\u001b[0m \u001b[1;33m=\u001b[0m \u001b[0mcalc_alpha\u001b[0m\u001b[1;33m(\u001b[0m\u001b[1;33m)\u001b[0m\u001b[1;33m\u001b[0m\u001b[0m\n\u001b[0;32m---> 26\u001b[0;31m             \u001b[0musers\u001b[0m \u001b[1;33m=\u001b[0m \u001b[0mcalc_users\u001b[0m\u001b[1;33m(\u001b[0m\u001b[1;33m)\u001b[0m\u001b[1;33m\u001b[0m\u001b[0m\n\u001b[0m\u001b[1;32m     27\u001b[0m             \u001b[0mgamma_i\u001b[0m \u001b[1;33m=\u001b[0m \u001b[0mcalc_gamma_i\u001b[0m\u001b[1;33m(\u001b[0m\u001b[1;33m)\u001b[0m\u001b[1;33m\u001b[0m\u001b[0m\n\u001b[1;32m     28\u001b[0m             \u001b[0mtarget_new\u001b[0m \u001b[1;33m=\u001b[0m \u001b[0mcalc_target\u001b[0m\u001b[1;33m(\u001b[0m\u001b[0malpha\u001b[0m\u001b[1;33m,\u001b[0m \u001b[0musers\u001b[0m\u001b[1;33m,\u001b[0m \u001b[0mitems\u001b[0m\u001b[1;33m,\u001b[0m \u001b[0mgamma_u\u001b[0m\u001b[1;33m,\u001b[0m \u001b[0mgamma_i\u001b[0m\u001b[1;33m,\u001b[0m \u001b[0mtrain_Ratings\u001b[0m\u001b[1;33m,\u001b[0m \u001b[0mlam\u001b[0m\u001b[1;33m)\u001b[0m\u001b[1;33m\u001b[0m\u001b[0m\n",
      "\u001b[0;32m<ipython-input-223-caa1d73833df>\u001b[0m in \u001b[0;36mcalc_users\u001b[0;34m()\u001b[0m\n\u001b[1;32m      6\u001b[0m         \u001b[0mg_u\u001b[0m \u001b[1;33m=\u001b[0m \u001b[0mgamma_u\u001b[0m\u001b[1;33m[\u001b[0m\u001b[0muser\u001b[0m\u001b[1;33m]\u001b[0m\u001b[1;33m\u001b[0m\u001b[0m\n\u001b[1;32m      7\u001b[0m         \u001b[1;32mfor\u001b[0m \u001b[0mitem\u001b[0m \u001b[1;32min\u001b[0m \u001b[0mR_u\u001b[0m\u001b[1;33m[\u001b[0m\u001b[0muser\u001b[0m\u001b[1;33m]\u001b[0m\u001b[1;33m:\u001b[0m\u001b[1;33m\u001b[0m\u001b[0m\n\u001b[0;32m----> 8\u001b[0;31m             \u001b[0msigma\u001b[0m \u001b[1;33m+=\u001b[0m \u001b[0mR_u\u001b[0m\u001b[1;33m[\u001b[0m\u001b[0muser\u001b[0m\u001b[1;33m]\u001b[0m\u001b[1;33m[\u001b[0m\u001b[0mitem\u001b[0m\u001b[1;33m]\u001b[0m \u001b[1;33m-\u001b[0m \u001b[1;33m(\u001b[0m\u001b[0malpha\u001b[0m \u001b[1;33m+\u001b[0m \u001b[0mitems\u001b[0m\u001b[1;33m[\u001b[0m\u001b[0mitem\u001b[0m\u001b[1;33m]\u001b[0m \u001b[1;33m+\u001b[0m \u001b[0mnumpy\u001b[0m\u001b[1;33m.\u001b[0m\u001b[0mdot\u001b[0m\u001b[1;33m(\u001b[0m\u001b[0mg_u\u001b[0m\u001b[1;33m.\u001b[0m\u001b[0mT\u001b[0m\u001b[1;33m,\u001b[0m \u001b[0mgamma_i\u001b[0m\u001b[1;33m[\u001b[0m\u001b[0mitem\u001b[0m\u001b[1;33m]\u001b[0m\u001b[1;33m)\u001b[0m\u001b[1;33m)\u001b[0m\u001b[1;33m\u001b[0m\u001b[0m\n\u001b[0m\u001b[1;32m      9\u001b[0m             \u001b[0mcount\u001b[0m \u001b[1;33m+=\u001b[0m \u001b[1;36m1\u001b[0m\u001b[1;33m\u001b[0m\u001b[0m\n\u001b[1;32m     10\u001b[0m         \u001b[0musers_tmp\u001b[0m\u001b[1;33m[\u001b[0m\u001b[0muser\u001b[0m\u001b[1;33m]\u001b[0m \u001b[1;33m=\u001b[0m \u001b[0msigma\u001b[0m \u001b[1;33m*\u001b[0m \u001b[1;36m1.0\u001b[0m \u001b[1;33m/\u001b[0m \u001b[1;33m(\u001b[0m\u001b[0mlam\u001b[0m \u001b[1;33m+\u001b[0m \u001b[0mcount\u001b[0m\u001b[1;33m)\u001b[0m\u001b[1;33m\u001b[0m\u001b[0m\n",
      "\u001b[0;31mKeyboardInterrupt\u001b[0m: "
     ]
    }
   ],
   "source": [
    "min_MSE = MSE_valid_6\n",
    "min_lam = 5\n",
    "lam_l = 4.5\n",
    "lam_h = 5.5\n",
    "myrange = numpy.arange(lam_l, lam_h, 0.1)\n",
    "for lam in myrange:\n",
    "    print lam\n",
    "    target_new = calc_target(alpha, users, items, gamma_u, gamma_i, train_Ratings, lam)\n",
    "    target = target_new + 100  # Tricky: Compel target to be larger than target_new\n",
    "    globalAverage = sum(l[2] for l in train_Ratings) * 1.0 / len(train_Ratings)\n",
    "    trial = 1\n",
    "    while abs(target - target_new) > 10:\n",
    "        while abs(target - target_new) > 10:\n",
    "            target = target_new\n",
    "            alpha = calc_alpha()\n",
    "            users = calc_users()\n",
    "            gamma_u = calc_gamma_u()\n",
    "            target_new = calc_target(alpha, users, items, gamma_u, gamma_i, train_Ratings, lam)\n",
    "            trial += 1\n",
    "            print trial\n",
    "        gamma_i = calc_gamma_i()\n",
    "        target_new = calc_target(alpha, users, items, gamma_u, gamma_i, train_Ratings, lam)\n",
    "        while abs(target - target_new) > 10:\n",
    "            target = target_new\n",
    "            alpha = calc_alpha()\n",
    "            users = calc_users()\n",
    "            gamma_i = calc_gamma_i()\n",
    "            target_new = calc_target(alpha, users, items, gamma_u, gamma_i, train_Ratings, lam)\n",
    "            trial += 1\n",
    "            print trial\n",
    "        gamma_u = calc_gamma_u()  \n",
    "        target_new = calc_target(alpha, users, items, gamma_u, gamma_i, train_Ratings, lam)\n",
    "    MSE_valid_new = calc_MSE(alpha, users, items, gamma_u, gamma_i, valid_Ratings, globalAverage)\n",
    "    print str(MSE_valid_new)\n",
    "    if MSE_valid_new < min_MSE:\n",
    "        min_lam = lam\n",
    "        min_MSE = MSE_valid_new\n",
    "        min_users = users\n",
    "        min_items = items\n",
    "        min_alpha = alpha\n",
    "        min_gamma_u = gamma_u\n",
    "        min_gamma_i = gamma_i\n",
    "        print \"best: \" + str(lam)"
   ]
  },
  {
   "cell_type": "markdown",
   "metadata": {},
   "source": [
    "# Last HW"
   ]
  },
  {
   "cell_type": "code",
   "execution_count": null,
   "metadata": {
    "collapsed": true
   },
   "outputs": [],
   "source": [
    "# Problem 7\n",
    "user_max = max(users, key=users.get)\n",
    "user_min = min(users, key=users.get)\n",
    "item_max = max(items, key=items.get)\n",
    "item_min = min(items, key=items.get)\n",
    "print \"user_max = \" + str(user_max)\n",
    "print \"user_min = \" + str(user_min)\n",
    "print \"item_max = \" + str(item_max)\n",
    "print \"item_min = \" + str(item_min)\n",
    "\n",
    "# Problem 8\n",
    "min_MSE = MSE_valid_6\n",
    "min_lam = 1\n",
    "lam_l = 1\n",
    "lam_h = 10\n",
    "myrange = numpy.arange(lam_l, lam_h, 7)\n",
    "for lam in myrange:\n",
    "    alpha = 4.23198\n",
    "    target_new = calc_target(alpha, users, items, gamma_u, gamma_i, train_Ratings, lam)\n",
    "    target = target_new + 100\n",
    "    globalAverage = sum(l[2] for l in train_Ratings) * 1.0 / len(train_Ratings)\n",
    "    trial = 1\n",
    "    while abs(target - target_new) > 1e-9:\n",
    "        target = target_new\n",
    "        if trial % 3 == 0:\n",
    "            alpha = calc_alpha()\n",
    "        elif trial % 3 == 1:\n",
    "            users = calc_users()\n",
    "        else:\n",
    "            items = calc_items()\n",
    "        target_new = calc_target(alpha, users, items, gamma_u, gamma_i,train_Ratings, lam)\n",
    "        trial += 1\n",
    "        #print trial\n",
    "    print lam\n",
    "    MSE_valid_8 = calc_MSE(alpha, users, items, valid_Ratings, globalAverage)\n",
    "    if MSE_valid_8 < min_MSE:\n",
    "        min_MSE = MSE_valid_8\n",
    "        min_lam = lam\n",
    "        min_users = users\n",
    "        min_items = items\n",
    "        min_alpha = alpha\n",
    "        print str(lam) + \"MSE = \" + str(MSE_valid_8)"
   ]
  },
  {
   "cell_type": "code",
   "execution_count": 213,
   "metadata": {
    "collapsed": false
   },
   "outputs": [
    {
     "data": {
      "text/plain": [
       "array([[  1.54938326e-05],\n",
       "       [ -3.63948939e-05],\n",
       "       [ -2.54616277e-05]])"
      ]
     },
     "execution_count": 213,
     "metadata": {},
     "output_type": "execute_result"
    }
   ],
   "source": [
    "sum(min_gamma_u[d] for d in min_gamma_u) / len(min_gamma_u)"
   ]
  },
  {
   "cell_type": "code",
   "execution_count": 44,
   "metadata": {
    "collapsed": false
   },
   "outputs": [],
   "source": [
    "min_users_ave = sum(min_users[d] for d in min_users) / len(min_users)\n",
    "min_items_ave = sum(min_items[d] for d in min_items) / len(min_items)\n",
    "min_gamma_u_ave = sum(min_gamma_u[d] for d in min_gamma_u) / len(min_gamma_u)\n",
    "min_gamma_i_ave = sum(min_gamma_i[d] for d in min_gamma_i) / len(min_gamma_i)\n",
    "predictions = open(\"predictions_Rating.csv\", 'w')\n",
    "for l in open(\"pairs_Rating.txt\"):\n",
    "    if l.startswith(\"userID\"):\n",
    "        #header\n",
    "        predictions.write(l)\n",
    "        continue\n",
    "    u, i = l.strip().split('-')\n",
    "    if u in min_users:\n",
    "        beta_u = min_users[u]\n",
    "        ga_u = min_gamma_u[u]\n",
    "    else:\n",
    "        beta_u = min_users_ave\n",
    "        ga_u = min_gamma_u_ave\n",
    "    if i in min_items:\n",
    "        beta_i = min_items[i]\n",
    "        ga_i = min_gamma_i[i]\n",
    "    else:\n",
    "        beta_i = min_items_ave\n",
    "        ga_i = min_gamma_i_ave\n",
    "\n",
    "    predictions.write(u + '-' + i + ',' + str((beta_u + beta_i + min_alpha + numpy.dot(ga_u.T, ga_i))[0][0]) + '\\n')\n",
    "\n",
    "predictions.close()"
   ]
  },
  {
   "cell_type": "code",
   "execution_count": 204,
   "metadata": {
    "collapsed": false
   },
   "outputs": [
    {
     "data": {
      "text/plain": [
       "-1.4409322442346891e-12"
      ]
     },
     "execution_count": 204,
     "metadata": {},
     "output_type": "execute_result"
    }
   ],
   "source": [
    "numpy.dot(ga_u.T, ga_i)[0][0]"
   ]
  },
  {
   "cell_type": "code",
   "execution_count": 205,
   "metadata": {
    "collapsed": false
   },
   "outputs": [
    {
     "data": {
      "text/plain": [
       "array([[ 4.23069069]])"
      ]
     },
     "execution_count": 205,
     "metadata": {},
     "output_type": "execute_result"
    }
   ],
   "source": [
    "min_alpha"
   ]
  },
  {
   "cell_type": "code",
   "execution_count": 207,
   "metadata": {
    "collapsed": false
   },
   "outputs": [
    {
     "data": {
      "text/plain": [
       "array([[ 0.21980266]])"
      ]
     },
     "execution_count": 207,
     "metadata": {},
     "output_type": "execute_result"
    }
   ],
   "source": [
    "beta_u"
   ]
  },
  {
   "cell_type": "code",
   "execution_count": null,
   "metadata": {
    "collapsed": true
   },
   "outputs": [],
   "source": []
  }
 ],
 "metadata": {
  "anaconda-cloud": {},
  "kernelspec": {
   "display_name": "Python [conda root]",
   "language": "python",
   "name": "conda-root-py"
  },
  "language_info": {
   "codemirror_mode": {
    "name": "ipython",
    "version": 2
   },
   "file_extension": ".py",
   "mimetype": "text/x-python",
   "name": "python",
   "nbconvert_exporter": "python",
   "pygments_lexer": "ipython2",
   "version": "2.7.12"
  }
 },
 "nbformat": 4,
 "nbformat_minor": 1
}
